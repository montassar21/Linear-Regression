{
  "nbformat": 4,
  "nbformat_minor": 0,
  "metadata": {
    "colab": {
      "provenance": [],
      "authorship_tag": "ABX9TyO9KBhJJjZLNoSQE2kYsj8h",
      "include_colab_link": true
    },
    "kernelspec": {
      "name": "python3",
      "display_name": "Python 3"
    },
    "language_info": {
      "name": "python"
    }
  },
  "cells": [
    {
      "cell_type": "markdown",
      "metadata": {
        "id": "view-in-github",
        "colab_type": "text"
      },
      "source": [
        "<a href=\"https://colab.research.google.com/github/montassar21/Linear-Regression/blob/main/LinearRegression.ipynb\" target=\"_parent\"><img src=\"https://colab.research.google.com/assets/colab-badge.svg\" alt=\"Open In Colab\"/></a>"
      ]
    },
    {
      "cell_type": "code",
      "execution_count": 1,
      "metadata": {
        "id": "MZ01X1gGSCqj"
      },
      "outputs": [],
      "source": [
        "import numpy as np \n",
        "from sklearn.datasets import make_regression\n",
        "import matplotlib.pyplot as plt\n"
      ]
    },
    {
      "cell_type": "code",
      "source": [
        "x,y=make_regression(n_samples=100,n_features=1,noise=10)\n",
        "plt.scatter(x,y)"
      ],
      "metadata": {
        "colab": {
          "base_uri": "https://localhost:8080/",
          "height": 283
        },
        "id": "vADlPhjpSS8C",
        "outputId": "1b340b4a-a85c-47b0-e2aa-76312bb6fdcc"
      },
      "execution_count": 3,
      "outputs": [
        {
          "output_type": "execute_result",
          "data": {
            "text/plain": [
              "<matplotlib.collections.PathCollection at 0x7f1a5bb42f10>"
            ]
          },
          "metadata": {},
          "execution_count": 3
        },
        {
          "output_type": "display_data",
          "data": {
            "text/plain": [
              "<Figure size 432x288 with 1 Axes>"
            ],
            "image/png": "[encoded data removed]"
          },
          "metadata": {
            "needs_background": "light"
          }
        }
      ]
    },
    {
      "cell_type": "code",
      "source": [
        "print(x.shape)\n",
        "y=y.reshape(y.shape[0],1)\n",
        "print(y.shape)"
      ],
      "metadata": {
        "colab": {
          "base_uri": "https://localhost:8080/"
        },
        "id": "DykmNbiaSTDl",
        "outputId": "545f066d-db97-4faf-8d25-688214bd96ce"
      },
      "execution_count": 7,
      "outputs": [
        {
          "output_type": "stream",
          "name": "stdout",
          "text": [
            "(100, 1)\n",
            "(100, 1)\n"
          ]
        }
      ]
    },
    {
      "cell_type": "code",
      "source": [
        "X=np.hstack((x,np.ones(x.shape)))\n",
        "print(X)"
      ],
      "metadata": {
        "colab": {
          "base_uri": "https://localhost:8080/"
        },
        "id": "SsgBzBN9TCCh",
        "outputId": "c783b693-d518-4926-b136-5fae93be4043"
      },
      "execution_count": 12,
      "outputs": [
        {
          "output_type": "stream",
          "name": "stdout",
          "text": [
            "[[ 0.7682721   1.        ]\n",
            " [ 1.88802162  1.        ]\n",
            " [ 1.14982056  1.        ]\n",
            " [ 1.57024802  1.        ]\n",
            " [ 1.42067016  1.        ]\n",
            " [ 0.15389568  1.        ]\n",
            " [ 0.57689786  1.        ]\n",
            " [ 0.59985399  1.        ]\n",
            " [-1.80368258  1.        ]\n",
            " [-0.7673675   1.        ]\n",
            " [-0.84555457  1.        ]\n",
            " [-0.9524454   1.        ]\n",
            " [-0.19742224  1.        ]\n",
            " [-0.72754784  1.        ]\n",
            " [ 1.28560284  1.        ]\n",
            " [ 0.87258278  1.        ]\n",
            " [ 0.00628845  1.        ]\n",
            " [-0.4471155   1.        ]\n",
            " [ 1.15989265  1.        ]\n",
            " [-1.15524449  1.        ]\n",
            " [ 0.4852127   1.        ]\n",
            " [ 2.0523728   1.        ]\n",
            " [ 0.66056624  1.        ]\n",
            " [ 1.67513235  1.        ]\n",
            " [ 0.08308563  1.        ]\n",
            " [-0.7499269   1.        ]\n",
            " [ 0.30294988  1.        ]\n",
            " [-1.10274523  1.        ]\n",
            " [ 0.55998543  1.        ]\n",
            " [-0.76539687  1.        ]\n",
            " [ 1.12979312  1.        ]\n",
            " [-0.19585173  1.        ]\n",
            " [-1.1952326   1.        ]\n",
            " [-0.70442117  1.        ]\n",
            " [ 2.13095757  1.        ]\n",
            " [-1.37720079  1.        ]\n",
            " [-0.88335203  1.        ]\n",
            " [-0.9501961   1.        ]\n",
            " [-0.43561334  1.        ]\n",
            " [-0.21415155  1.        ]\n",
            " [ 1.75335508  1.        ]\n",
            " [ 0.90094421  1.        ]\n",
            " [-0.09114865  1.        ]\n",
            " [-0.02456529  1.        ]\n",
            " [ 0.39935329  1.        ]\n",
            " [-0.58504301  1.        ]\n",
            " [ 1.64357854  1.        ]\n",
            " [-0.66365921  1.        ]\n",
            " [ 1.25266764  1.        ]\n",
            " [-1.99835877  1.        ]\n",
            " [ 2.1933759   1.        ]\n",
            " [ 0.33094265  1.        ]\n",
            " [ 1.2183046   1.        ]\n",
            " [ 1.69877943  1.        ]\n",
            " [ 1.07054757  1.        ]\n",
            " [-0.21938888  1.        ]\n",
            " [ 0.50275827  1.        ]\n",
            " [-0.50193742  1.        ]\n",
            " [ 0.04665443  1.        ]\n",
            " [-0.24020909  1.        ]\n",
            " [ 0.45477287  1.        ]\n",
            " [ 0.90699412  1.        ]\n",
            " [-1.13948636  1.        ]\n",
            " [ 0.11329883  1.        ]\n",
            " [ 1.28510219  1.        ]\n",
            " [ 0.61516622  1.        ]\n",
            " [-0.88926876  1.        ]\n",
            " [-0.38665329  1.        ]\n",
            " [-0.41737388  1.        ]\n",
            " [-0.63166583  1.        ]\n",
            " [-0.76414571  1.        ]\n",
            " [ 0.82439717  1.        ]\n",
            " [-0.98022896  1.        ]\n",
            " [ 0.27191893  1.        ]\n",
            " [-0.13127365  1.        ]\n",
            " [-0.85219556  1.        ]\n",
            " [ 0.60674202  1.        ]\n",
            " [ 0.3689732   1.        ]\n",
            " [-0.31541328  1.        ]\n",
            " [ 1.12950919  1.        ]\n",
            " [-1.75944974  1.        ]\n",
            " [-1.9346279   1.        ]\n",
            " [ 0.1925729   1.        ]\n",
            " [-0.15284611  1.        ]\n",
            " [-0.45240716  1.        ]\n",
            " [ 0.1348536   1.        ]\n",
            " [ 0.33470081  1.        ]\n",
            " [-0.91651106  1.        ]\n",
            " [-0.89669484  1.        ]\n",
            " [ 0.64541455  1.        ]\n",
            " [ 0.10742397  1.        ]\n",
            " [ 0.69880519  1.        ]\n",
            " [ 0.60304602  1.        ]\n",
            " [-1.02811791  1.        ]\n",
            " [-0.22435894  1.        ]\n",
            " [-0.13043671  1.        ]\n",
            " [-1.39067455  1.        ]\n",
            " [ 0.30125803  1.        ]\n",
            " [ 0.53667444  1.        ]\n",
            " [-0.46264675  1.        ]]\n"
          ]
        }
      ]
    },
    {
      "cell_type": "code",
      "source": [
        "theta=np.random.randn(2,1)\n",
        "theta"
      ],
      "metadata": {
        "colab": {
          "base_uri": "https://localhost:8080/"
        },
        "id": "Tn2mRhEIUk64",
        "outputId": "934bff44-1adc-45e2-bac5-f68a44f278b1"
      },
      "execution_count": 14,
      "outputs": [
        {
          "output_type": "execute_result",
          "data": {
            "text/plain": [
              "array([[0.47738605],\n",
              "       [0.83698625]])"
            ]
          },
          "metadata": {},
          "execution_count": 14
        }
      ]
    },
    {
      "cell_type": "markdown",
      "source": [
        "**Model**"
      ],
      "metadata": {
        "id": "BV-NcKEKVHYT"
      }
    },
    {
      "cell_type": "code",
      "source": [
        "def model(X,theta):\n",
        "  return X.dot(theta)"
      ],
      "metadata": {
        "id": "r6D_J2KUTCGG"
      },
      "execution_count": 16,
      "outputs": []
    },
    {
      "cell_type": "code",
      "source": [
        "model(X,theta)"
      ],
      "metadata": {
        "colab": {
          "base_uri": "https://localhost:8080/"
        },
        "id": "Pj0SwDhRVaMj",
        "outputId": "e74ccaa0-08f5-4bc6-c2e9-fc7e34cf1e2b"
      },
      "execution_count": 17,
      "outputs": [
        {
          "output_type": "execute_result",
          "data": {
            "text/plain": [
              "array([[ 1.20374863],\n",
              "       [ 1.73830144],\n",
              "       [ 1.38589454],\n",
              "       [ 1.58660075],\n",
              "       [ 1.51519437],\n",
              "       [ 0.9104539 ],\n",
              "       [ 1.11238924],\n",
              "       [ 1.12334818],\n",
              "       [-0.02406666],\n",
              "       [ 0.47065571],\n",
              "       [ 0.43333029],\n",
              "       [ 0.3823021 ],\n",
              "       [ 0.74273962],\n",
              "       [ 0.48966506],\n",
              "       [ 1.45071511],\n",
              "       [ 1.25354509],\n",
              "       [ 0.83998827],\n",
              "       [ 0.62353954],\n",
              "       [ 1.39070282],\n",
              "       [ 0.28548864],\n",
              "       [ 1.06862002],\n",
              "       [ 1.81676039],\n",
              "       [ 1.15233136],\n",
              "       [ 1.63667107],\n",
              "       [ 0.87665017],\n",
              "       [ 0.47898161],\n",
              "       [ 0.9816103 ],\n",
              "       [ 0.31055106],\n",
              "       [ 1.10431548],\n",
              "       [ 0.47159646],\n",
              "       [ 1.37633373],\n",
              "       [ 0.74348936],\n",
              "       [ 0.26639888],\n",
              "       [ 0.50070541],\n",
              "       [ 1.85427567],\n",
              "       [ 0.1795298 ],\n",
              "       [ 0.41528631],\n",
              "       [ 0.38337589],\n",
              "       [ 0.62903052],\n",
              "       [ 0.73475328],\n",
              "       [ 1.67401351],\n",
              "       [ 1.26708445],\n",
              "       [ 0.79347315],\n",
              "       [ 0.82525912],\n",
              "       [ 1.02763194],\n",
              "       [ 0.55769488],\n",
              "       [ 1.62160772],\n",
              "       [ 0.5201646 ],\n",
              "       [ 1.43499231],\n",
              "       [-0.11700235],\n",
              "       [ 1.88407331],\n",
              "       [ 0.99497366],\n",
              "       [ 1.41858787],\n",
              "       [ 1.64795985],\n",
              "       [ 1.34805073],\n",
              "       [ 0.73225306],\n",
              "       [ 1.07699604],\n",
              "       [ 0.59736833],\n",
              "       [ 0.85925842],\n",
              "       [ 0.72231378],\n",
              "       [ 1.05408847],\n",
              "       [ 1.26997259],\n",
              "       [ 0.29301136],\n",
              "       [ 0.89107353],\n",
              "       [ 1.45047611],\n",
              "       [ 1.13065802],\n",
              "       [ 0.41246175],\n",
              "       [ 0.65240336],\n",
              "       [ 0.63773778],\n",
              "       [ 0.53543779],\n",
              "       [ 0.47219375],\n",
              "       [ 1.23054196],\n",
              "       [ 0.36903861],\n",
              "       [ 0.96679655],\n",
              "       [ 0.77431804],\n",
              "       [ 0.43015997],\n",
              "       [ 1.12663643],\n",
              "       [ 1.01312891],\n",
              "       [ 0.68641235],\n",
              "       [ 1.37619818],\n",
              "       [-0.00295052],\n",
              "       [-0.08657812],\n",
              "       [ 0.92891786],\n",
              "       [ 0.76401965],\n",
              "       [ 0.62101338],\n",
              "       [ 0.90136348],\n",
              "       [ 0.99676775],\n",
              "       [ 0.39945665],\n",
              "       [ 0.40891664],\n",
              "       [ 1.14509815],\n",
              "       [ 0.88826896],\n",
              "       [ 1.1705861 ],\n",
              "       [ 1.12487201],\n",
              "       [ 0.3461771 ],\n",
              "       [ 0.72988042],\n",
              "       [ 0.77471758],\n",
              "       [ 0.17309762],\n",
              "       [ 0.98080263],\n",
              "       [ 1.09318714],\n",
              "       [ 0.61612514]])"
            ]
          },
          "metadata": {},
          "execution_count": 17
        }
      ]
    },
    {
      "cell_type": "code",
      "source": [
        "plt.scatter(x,y)\n",
        "plt.plot(x,model(X,theta),c='r')"
      ],
      "metadata": {
        "colab": {
          "base_uri": "https://localhost:8080/",
          "height": 283
        },
        "id": "qJQ6x_0uVaPu",
        "outputId": "62ef6f45-9499-4c54-dba4-ae7ea1d3973a"
      },
      "execution_count": 20,
      "outputs": [
        {
          "output_type": "execute_result",
          "data": {
            "text/plain": [
              "[<matplotlib.lines.Line2D at 0x7f1a51f077c0>]"
            ]
          },
          "metadata": {},
          "execution_count": 20
        },
        {
          "output_type": "display_data",
          "data": {
            "text/plain": [
              "<Figure size 432x288 with 1 Axes>"
            ],
            "image/png": "[encoded data removed]"
          },
          "metadata": {
            "needs_background": "light"
          }
        }
      ]
    },
    {
      "cell_type": "markdown",
      "source": [
        "**Mean Sqaured Error**\n",
        "\n"
      ],
      "metadata": {
        "id": "py72LTzqerFB"
      }
    },
    {
      "cell_type": "code",
      "source": [
        "def cost_function(X,theta,y):\n",
        "  m=len(y)\n",
        "  return (1/(2*m))*np.sum((model(X,theta)-y)**2)"
      ],
      "metadata": {
        "id": "3CHhZi2TWGAL"
      },
      "execution_count": 23,
      "outputs": []
    },
    {
      "cell_type": "code",
      "source": [
        "cost_function(X,theta,y)"
      ],
      "metadata": {
        "colab": {
          "base_uri": "https://localhost:8080/"
        },
        "id": "s65Kj7vIWGDk",
        "outputId": "6e2405f9-32c9-4cff-c9e6-79a36f0eec96"
      },
      "execution_count": 24,
      "outputs": [
        {
          "output_type": "execute_result",
          "data": {
            "text/plain": [
              "864.3344707003664"
            ]
          },
          "metadata": {},
          "execution_count": 24
        }
      ]
    },
    {
      "cell_type": "markdown",
      "source": [
        "**Grad and Descent Gradient**"
      ],
      "metadata": {
        "id": "IWJqYq0pfANd"
      }
    },
    {
      "cell_type": "code",
      "source": [
        "def grad(X,theta,y):\n",
        "  m=len(y)\n",
        "  return 1/m*(X.T.dot((model(X,theta)-y)))"
      ],
      "metadata": {
        "id": "4lrtqGD_XaOg"
      },
      "execution_count": 26,
      "outputs": []
    },
    {
      "cell_type": "code",
      "source": [
        "grad(X,theta,y)"
      ],
      "metadata": {
        "colab": {
          "base_uri": "https://localhost:8080/"
        },
        "id": "tWE9dBc3XaSD",
        "outputId": "13069dd2-4ea4-4df8-d5bb-23b50ecd0294"
      },
      "execution_count": 27,
      "outputs": [
        {
          "output_type": "execute_result",
          "data": {
            "text/plain": [
              "array([[-38.90633262],\n",
              "       [ -2.51251474]])"
            ]
          },
          "metadata": {},
          "execution_count": 27
        }
      ]
    },
    {
      "cell_type": "code",
      "source": [
        "def descent_gradient(X,y,theta,n_iterations,rate_learning):\n",
        "  for i in range(0,n_iterations):\n",
        "    theta=theta-rate_learning*grad(X,theta,y)\n",
        "  return theta"
      ],
      "metadata": {
        "id": "bGqCF2ngYdlp"
      },
      "execution_count": 39,
      "outputs": []
    },
    {
      "cell_type": "code",
      "source": [
        "theta_final=descent_gradient(X,y,theta,1000,0.01)\n",
        "theta_final"
      ],
      "metadata": {
        "colab": {
          "base_uri": "https://localhost:8080/"
        },
        "id": "WManKG3qY7pS",
        "outputId": "c025fa6d-30c0-4ec2-a6a0-ec34eae9b0f3"
      },
      "execution_count": 40,
      "outputs": [
        {
          "output_type": "execute_result",
          "data": {
            "text/plain": [
              "array([[ 4.24621003e+01],\n",
              "       [-1.92402062e-02]])"
            ]
          },
          "metadata": {},
          "execution_count": 40
        }
      ]
    },
    {
      "cell_type": "markdown",
      "source": [
        "**Training**"
      ],
      "metadata": {
        "id": "3I2uDlcAhKao"
      }
    },
    {
      "cell_type": "code",
      "source": [
        "prediction=model(X,theta_final)\n",
        "plt.scatter(x,y)\n",
        "plt.plot(x,prediction,c='r')"
      ],
      "metadata": {
        "colab": {
          "base_uri": "https://localhost:8080/",
          "height": 283
        },
        "id": "zGhYWFCFZKq6",
        "outputId": "8eb0cc93-001c-4a51-aaed-0166fd281b23"
      },
      "execution_count": 41,
      "outputs": [
        {
          "output_type": "execute_result",
          "data": {
            "text/plain": [
              "[<matplotlib.lines.Line2D at 0x7f1a51d69d00>]"
            ]
          },
          "metadata": {},
          "execution_count": 41
        },
        {
          "output_type": "display_data",
          "data": {
            "text/plain": [
              "<Figure size 432x288 with 1 Axes>"
            ],
            "image/png": "[encoded data removed]"
          },
          "metadata": {
            "needs_background": "light"
          }
        }
      ]
    },
    {
      "cell_type": "markdown",
      "source": [
        "**Evaluation finale**"
      ],
      "metadata": {
        "id": "n8swNt5gfPGg"
      }
    },
    {
      "cell_type": "code",
      "source": [
        "def coeff_determination(y,pred):\n",
        "  u=((y-pred)**2).sum()\n",
        "  v=((y-y.mean())**2).sum()\n",
        "  return 1 - u/v"
      ],
      "metadata": {
        "id": "qP_AonBUazEf"
      },
      "execution_count": 42,
      "outputs": []
    },
    {
      "cell_type": "code",
      "source": [
        "coeff_determination(y,prediction)"
      ],
      "metadata": {
        "colab": {
          "base_uri": "https://localhost:8080/"
        },
        "id": "rmG11LHJbKcb",
        "outputId": "f9f00aef-e243-4dee-b716-92481853a7f6"
      },
      "execution_count": 43,
      "outputs": [
        {
          "output_type": "execute_result",
          "data": {
            "text/plain": [
              "0.9446730149822831"
            ]
          },
          "metadata": {},
          "execution_count": 43
        }
      ]
    }
  ]
}